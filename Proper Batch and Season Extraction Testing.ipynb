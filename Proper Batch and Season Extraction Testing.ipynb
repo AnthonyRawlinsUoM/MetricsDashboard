{
 "cells": [
  {
   "cell_type": "code",
   "execution_count": 1,
   "metadata": {},
   "outputs": [],
   "source": [
    "import numpy as np\n",
    "import xarray as xr\n",
    "import pandas as pd"
   ]
  },
  {
   "cell_type": "code",
   "execution_count": 2,
   "metadata": {},
   "outputs": [],
   "source": [
    "from pathlib import Path"
   ]
  },
  {
   "cell_type": "code",
   "execution_count": 3,
   "metadata": {},
   "outputs": [
    {
     "name": "stdout",
     "output_type": "stream",
     "text": [
      "centralhigh22nov2018  ph_10.csv  ph_1.nc   ph_3.csv  ph_5.nc\r\n",
      "ph_0.csv\t      ph_10.nc\t ph_2.csv  ph_3.nc\r\n",
      "ph_0.nc\t\t      ph_1.csv\t ph_2.nc   ph_5.csv\r\n"
     ]
    }
   ],
   "source": [
    "!ls /nfs/pyromancer/SharedData/regsimout"
   ]
  },
  {
   "cell_type": "code",
   "execution_count": 4,
   "metadata": {},
   "outputs": [
    {
     "name": "stdout",
     "output_type": "stream",
     "text": [
      "BioDiversity.py  Hydrology.py\t\t__init__.py\t  __pycache__\r\n",
      "Carbon.py\t Ignitions.py\t\tlib\t\t  Recreational.py\r\n",
      "Experiential.py  ImplementationCost.py\tMetricAdaptor.py  RegionalEconomy.py\r\n",
      "extractions.log  Infrastructure.py\tPeopleHouses.py   util\r\n"
     ]
    }
   ],
   "source": [
    "!ls image/apps"
   ]
  },
  {
   "cell_type": "code",
   "execution_count": 5,
   "metadata": {},
   "outputs": [],
   "source": [
    "fpath = \"/nfs/pyromancer/SharedData/regsimout\""
   ]
  },
  {
   "cell_type": "code",
   "execution_count": 6,
   "metadata": {},
   "outputs": [],
   "source": [
    "pname = \"centralhigh22nov2018\""
   ]
  },
  {
   "cell_type": "code",
   "execution_count": 7,
   "metadata": {},
   "outputs": [],
   "source": [
    "from image.apps.lib.ProjectsController import ProjectsController\n",
    "from image.apps.lib.Project import Project"
   ]
  },
  {
   "cell_type": "code",
   "execution_count": null,
   "metadata": {},
   "outputs": [],
   "source": []
  },
  {
   "cell_type": "code",
   "execution_count": null,
   "metadata": {},
   "outputs": [],
   "source": []
  },
  {
   "cell_type": "code",
   "execution_count": null,
   "metadata": {},
   "outputs": [],
   "source": []
  },
  {
   "cell_type": "code",
   "execution_count": 8,
   "metadata": {},
   "outputs": [
    {
     "data": {
      "text/plain": [
       "'Unnamed Project'"
      ]
     },
     "execution_count": 8,
     "metadata": {},
     "output_type": "execute_result"
    }
   ],
   "source": [
    "proj = Project()\n",
    "proj.name"
   ]
  },
  {
   "cell_type": "code",
   "execution_count": 9,
   "metadata": {},
   "outputs": [
    {
     "data": {
      "text/plain": [
       "'dss'"
      ]
     },
     "execution_count": 9,
     "metadata": {},
     "output_type": "execute_result"
    }
   ],
   "source": [
    "proj.extension"
   ]
  },
  {
   "cell_type": "code",
   "execution_count": 10,
   "metadata": {},
   "outputs": [
    {
     "data": {
      "text/plain": [
       "'Unnamed_Project'"
      ]
     },
     "execution_count": 10,
     "metadata": {},
     "output_type": "execute_result"
    }
   ],
   "source": [
    "proj.safe_name()"
   ]
  },
  {
   "cell_type": "code",
   "execution_count": 11,
   "metadata": {},
   "outputs": [
    {
     "data": {
      "text/plain": [
       "'/media/arawlins/Olympic/DSS_DASH/MetricsDashboard/Unnamed_Project.dss'"
      ]
     },
     "execution_count": 11,
     "metadata": {},
     "output_type": "execute_result"
    }
   ],
   "source": [
    "proj.path_to_save"
   ]
  },
  {
   "cell_type": "code",
   "execution_count": null,
   "metadata": {},
   "outputs": [],
   "source": []
  },
  {
   "cell_type": "code",
   "execution_count": 12,
   "metadata": {},
   "outputs": [
    {
     "name": "stdout",
     "output_type": "stream",
     "text": [
      "Will save to: /media/arawlins/Olympic/DSS_DASH/MetricsDashboard/Example.dss\n",
      "Wrote: /media/arawlins/Olympic/DSS_DASH/MetricsDashboard/Example.dss/meta.yaml\n",
      "Wrote: /media/arawlins/Olympic/DSS_DASH/MetricsDashboard/Example.dss\n"
     ]
    }
   ],
   "source": [
    "proj.rename(\"Example\")"
   ]
  },
  {
   "cell_type": "code",
   "execution_count": null,
   "metadata": {},
   "outputs": [],
   "source": []
  },
  {
   "cell_type": "code",
   "execution_count": 13,
   "metadata": {},
   "outputs": [
    {
     "data": {
      "text/plain": [
       "'/media/arawlins/Olympic/DSS_DASH/MetricsDashboard/Example.dss'"
      ]
     },
     "execution_count": 13,
     "metadata": {},
     "output_type": "execute_result"
    }
   ],
   "source": [
    "proj.path_to_save"
   ]
  },
  {
   "cell_type": "code",
   "execution_count": null,
   "metadata": {},
   "outputs": [],
   "source": []
  },
  {
   "cell_type": "code",
   "execution_count": 14,
   "metadata": {},
   "outputs": [
    {
     "data": {
      "text/plain": [
       "{'version': '1.0',\n",
       " 'metric_evaluation': '/nfs/pyromancer/SharedData/regsimout/centralhigh22nov2018/',\n",
       " 'levels': [0, 1, 2, 3, 5, 10],\n",
       " 'project_extension': '.frost.proj',\n",
       " 'output_folder_name': 'post_processing_output',\n",
       " 'extension': 'dss',\n",
       " 'path': '/media/arawlins/Olympic/DSS_DASH/MetricsDashboard',\n",
       " 'name': 'Example'}"
      ]
     },
     "execution_count": 14,
     "metadata": {},
     "output_type": "execute_result"
    }
   ],
   "source": [
    "proj.metadata"
   ]
  },
  {
   "cell_type": "code",
   "execution_count": 15,
   "metadata": {},
   "outputs": [
    {
     "name": "stdout",
     "output_type": "stream",
     "text": [
      "Will save to: /media/arawlins/Olympic/DSS_DASH/MetricsDashboard/Example.dss\n",
      "Wrote: /media/arawlins/Olympic/DSS_DASH/MetricsDashboard/Example.dss/meta.yaml\n",
      "Wrote: /media/arawlins/Olympic/DSS_DASH/MetricsDashboard/Example.dss\n"
     ]
    }
   ],
   "source": [
    "proj._save()"
   ]
  },
  {
   "cell_type": "code",
   "execution_count": 16,
   "metadata": {},
   "outputs": [],
   "source": [
    "import yaml"
   ]
  },
  {
   "cell_type": "code",
   "execution_count": 17,
   "metadata": {},
   "outputs": [
    {
     "data": {
      "text/plain": [
       "{'extension': 'dss',\n",
       " 'levels': [0, 1, 2, 3, 5, 10],\n",
       " 'metric_evaluation': '/nfs/pyromancer/SharedData/regsimout/centralhigh22nov2018/',\n",
       " 'name': 'Example',\n",
       " 'output_folder_name': 'post_processing_output',\n",
       " 'path': '/media/arawlins/Olympic/DSS_DASH/MetricsDashboard',\n",
       " 'project_extension': '.frost.proj',\n",
       " 'version': '1.0'}"
      ]
     },
     "execution_count": 17,
     "metadata": {},
     "output_type": "execute_result"
    }
   ],
   "source": [
    "with open(str(Path(proj.path_to_save).joinpath('meta.yaml')), 'r') as f:\n",
    "    y = yaml.safe_load(f)\n",
    "y"
   ]
  },
  {
   "cell_type": "code",
   "execution_count": 18,
   "metadata": {},
   "outputs": [],
   "source": [
    "proj.metadata = y"
   ]
  },
  {
   "cell_type": "code",
   "execution_count": 19,
   "metadata": {},
   "outputs": [
    {
     "data": {
      "text/plain": [
       "<image.apps.lib.Project.Project at 0x7fdc88c0c908>"
      ]
     },
     "execution_count": 19,
     "metadata": {},
     "output_type": "execute_result"
    }
   ],
   "source": [
    "proj"
   ]
  },
  {
   "cell_type": "code",
   "execution_count": 20,
   "metadata": {},
   "outputs": [
    {
     "data": {
      "text/plain": [
       "{'extension': 'dss',\n",
       " 'levels': [0, 1, 2, 3, 5, 10],\n",
       " 'metric_evaluation': '/nfs/pyromancer/SharedData/regsimout/centralhigh22nov2018/',\n",
       " 'name': 'Example',\n",
       " 'output_folder_name': 'post_processing_output',\n",
       " 'path': '/media/arawlins/Olympic/DSS_DASH/MetricsDashboard',\n",
       " 'project_extension': '.frost.proj',\n",
       " 'version': '1.0'}"
      ]
     },
     "execution_count": 20,
     "metadata": {},
     "output_type": "execute_result"
    }
   ],
   "source": [
    "proj.metadata"
   ]
  },
  {
   "cell_type": "code",
   "execution_count": 22,
   "metadata": {},
   "outputs": [
    {
     "data": {
      "text/plain": [
       "'/nfs/pyromancer/SharedData/regsimout/centralhigh22nov2018/'"
      ]
     },
     "execution_count": 22,
     "metadata": {},
     "output_type": "execute_result"
    }
   ],
   "source": [
    "proj.metadata['metric_evaluation']"
   ]
  },
  {
   "cell_type": "code",
   "execution_count": 25,
   "metadata": {},
   "outputs": [
    {
     "name": "stdout",
     "output_type": "stream",
     "text": [
      "centralhigh22nov18_10pb001.frost.proj  fire_impacts_57.sqlite\r\n",
      "fire_impact_databases_index.sqlite     fire_impacts_58.sqlite\r\n",
      "fire_impacts_100.sqlite\t\t       fire_impacts_59.sqlite\r\n",
      "fire_impacts_10.sqlite\t\t       fire_impacts_5.sqlite\r\n",
      "fire_impacts_11.sqlite\t\t       fire_impacts_60.sqlite\r\n",
      "fire_impacts_12.sqlite\t\t       fire_impacts_61.sqlite\r\n",
      "fire_impacts_13.sqlite\t\t       fire_impacts_62.sqlite\r\n",
      "fire_impacts_14.sqlite\t\t       fire_impacts_63.sqlite\r\n",
      "fire_impacts_15.sqlite\t\t       fire_impacts_64.sqlite\r\n",
      "fire_impacts_16.sqlite\t\t       fire_impacts_65.sqlite\r\n",
      "fire_impacts_17.sqlite\t\t       fire_impacts_66.sqlite\r\n",
      "fire_impacts_18.sqlite\t\t       fire_impacts_67.sqlite\r\n",
      "fire_impacts_19.sqlite\t\t       fire_impacts_68.sqlite\r\n",
      "fire_impacts_1.sqlite\t\t       fire_impacts_69.sqlite\r\n",
      "fire_impacts_20.sqlite\t\t       fire_impacts_6.sqlite\r\n",
      "fire_impacts_21.sqlite\t\t       fire_impacts_70.sqlite\r\n",
      "fire_impacts_22.sqlite\t\t       fire_impacts_71.sqlite\r\n",
      "fire_impacts_23.sqlite\t\t       fire_impacts_72.sqlite\r\n",
      "fire_impacts_24.sqlite\t\t       fire_impacts_73.sqlite\r\n",
      "fire_impacts_25.sqlite\t\t       fire_impacts_74.sqlite\r\n",
      "fire_impacts_26.sqlite\t\t       fire_impacts_75.sqlite\r\n",
      "fire_impacts_27.sqlite\t\t       fire_impacts_76.sqlite\r\n",
      "fire_impacts_28.sqlite\t\t       fire_impacts_77.sqlite\r\n",
      "fire_impacts_29.sqlite\t\t       fire_impacts_78.sqlite\r\n",
      "fire_impacts_2.sqlite\t\t       fire_impacts_79.sqlite\r\n",
      "fire_impacts_30.sqlite\t\t       fire_impacts_7.sqlite\r\n",
      "fire_impacts_31.sqlite\t\t       fire_impacts_80.sqlite\r\n",
      "fire_impacts_32.sqlite\t\t       fire_impacts_81.sqlite\r\n",
      "fire_impacts_33.sqlite\t\t       fire_impacts_82.sqlite\r\n",
      "fire_impacts_34.sqlite\t\t       fire_impacts_83.sqlite\r\n",
      "fire_impacts_35.sqlite\t\t       fire_impacts_84.sqlite\r\n",
      "fire_impacts_36.sqlite\t\t       fire_impacts_85.sqlite\r\n",
      "fire_impacts_37.sqlite\t\t       fire_impacts_86.sqlite\r\n",
      "fire_impacts_38.sqlite\t\t       fire_impacts_87.sqlite\r\n",
      "fire_impacts_39.sqlite\t\t       fire_impacts_88.sqlite\r\n",
      "fire_impacts_3.sqlite\t\t       fire_impacts_89.sqlite\r\n",
      "fire_impacts_40.sqlite\t\t       fire_impacts_8.sqlite\r\n",
      "fire_impacts_41.sqlite\t\t       fire_impacts_90.sqlite\r\n",
      "fire_impacts_42.sqlite\t\t       fire_impacts_91.sqlite\r\n",
      "fire_impacts_43.sqlite\t\t       fire_impacts_92.sqlite\r\n",
      "fire_impacts_44.sqlite\t\t       fire_impacts_93.sqlite\r\n",
      "fire_impacts_45.sqlite\t\t       fire_impacts_94.sqlite\r\n",
      "fire_impacts_46.sqlite\t\t       fire_impacts_95.sqlite\r\n",
      "fire_impacts_47.sqlite\t\t       fire_impacts_96.sqlite\r\n",
      "fire_impacts_48.sqlite\t\t       fire_impacts_97.sqlite\r\n",
      "fire_impacts_49.sqlite\t\t       fire_impacts_98.sqlite\r\n",
      "fire_impacts_4.sqlite\t\t       fire_impacts_99.sqlite\r\n",
      "fire_impacts_50.sqlite\t\t       fire_impacts_9.sqlite\r\n",
      "fire_impacts_51.sqlite\t\t       post_processing_output\r\n",
      "fire_impacts_52.sqlite\t\t       project_info.sqlite\r\n",
      "fire_impacts_53.sqlite\t\t       regime_simulation_error_log.txt\r\n",
      "fire_impacts_54.sqlite\t\t       regsim_ignitions.txt\r\n",
      "fire_impacts_55.sqlite\t\t       regsim_warnings_errors.log\r\n",
      "fire_impacts_56.sqlite\r\n"
     ]
    }
   ],
   "source": [
    "!ls /nfs/pyromancer/SharedData/regsimout/centralhigh22nov2018/centralhigh22nov2018_10pb/centralhigh22nov18_10pb001/"
   ]
  },
  {
   "cell_type": "code",
   "execution_count": 26,
   "metadata": {},
   "outputs": [],
   "source": [
    "projFile = '/nfs/pyromancer/SharedData/regsimout/centralhigh22nov2018/centralhigh22nov2018_10pb/centralhigh22nov18_10pb001/centralhigh22nov18_10pb001.frost.proj'"
   ]
  },
  {
   "cell_type": "code",
   "execution_count": 28,
   "metadata": {},
   "outputs": [
    {
     "name": "stdout",
     "output_type": "stream",
     "text": [
      "﻿<?xml version=\"1.0\" encoding=\"utf-8\"?>\n",
      "<frost_regsim_project version=\"7\">\n",
      "  <project_name>centralhigh22nov18_10pb001</project_name>\n",
      "  <project_descr>Regsim 1 of 100 in multi-project \"centralhigh22nov2018_10pb\"</project_descr>\n",
      "  <machines_in_files_root_dir>X:\\__frostbatch_machinery_data\\centralhigh22nov2018\\machinery_data_clone_3\\</machines_in_files_root_dir>\n",
      "  <output_root_dir>Y:\\regsimout\\centralhigh22nov2018\\centralhigh22nov2018_10pb\\</output_root_dir>\n",
      "  <start_year_of_first_fireyear>2003</start_year_of_first_fireyear>\n",
      "  <start_year_of_last_fireyear>2052</start_year_of_last_fireyear>\n",
      "</frost_regsim_project>\n"
     ]
    }
   ],
   "source": [
    "with open(projFile, 'r') as f:\n",
    "    print(f.read())"
   ]
  },
  {
   "cell_type": "code",
   "execution_count": 29,
   "metadata": {},
   "outputs": [],
   "source": [
    "import xml.etree.ElementTree as ET\n",
    "\n",
    "tree = ET.parse(projFile)\n",
    "root = tree.getroot()"
   ]
  },
  {
   "cell_type": "code",
   "execution_count": 31,
   "metadata": {},
   "outputs": [
    {
     "data": {
      "text/plain": [
       "'frost_regsim_project'"
      ]
     },
     "execution_count": 31,
     "metadata": {},
     "output_type": "execute_result"
    }
   ],
   "source": [
    "root.tag"
   ]
  },
  {
   "cell_type": "code",
   "execution_count": 33,
   "metadata": {},
   "outputs": [
    {
     "data": {
      "text/plain": [
       "{'version': '7'}"
      ]
     },
     "execution_count": 33,
     "metadata": {},
     "output_type": "execute_result"
    }
   ],
   "source": [
    "root.attrib"
   ]
  },
  {
   "cell_type": "code",
   "execution_count": null,
   "metadata": {},
   "outputs": [],
   "source": []
  }
 ],
 "metadata": {
  "kernelspec": {
   "display_name": "Python 3",
   "language": "python",
   "name": "python3"
  },
  "language_info": {
   "codemirror_mode": {
    "name": "ipython",
    "version": 3
   },
   "file_extension": ".py",
   "mimetype": "text/x-python",
   "name": "python",
   "nbconvert_exporter": "python",
   "pygments_lexer": "ipython3",
   "version": "3.7.1"
  }
 },
 "nbformat": 4,
 "nbformat_minor": 2
}
