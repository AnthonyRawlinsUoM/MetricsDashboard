{
 "cells": [
  {
   "cell_type": "code",
   "execution_count": 9,
   "metadata": {},
   "outputs": [],
   "source": [
    "source(\"../scripts/extract data from databases v3.R\")"
   ]
  },
  {
   "cell_type": "code",
   "execution_count": 10,
   "metadata": {},
   "outputs": [
    {
     "data": {
      "text/html": [],
      "text/latex": [],
      "text/markdown": [],
      "text/plain": [
       "character(0)"
      ]
     },
     "metadata": {},
     "output_type": "display_data"
    }
   ],
   "source": [
    "list.files(\"../data\")"
   ]
  },
  {
   "cell_type": "code",
   "execution_count": null,
   "metadata": {},
   "outputs": [],
   "source": [
    "basedirfile<-c(\"E:\\\\frost_regsim_tests\\\\batch_output\\\\\")\n",
    "burnblocks<-\"E:/frost_dev/target_machine_data_central_highlands/planned_burns_machine/delwp/base_burnblocks/new_burn_blocks.shp\"\n",
    "\n",
    "for (p in c(0,1,5, 10))\n",
    "{\n",
    "  dirfile<-gsub(\"Xpb\", paste0(p, \"pb\"), basedirfile) \n",
    "  dirfile<-paste0(dirfile, \"centralhigh_\", p,\"pb\\\\\" )\n",
    "  \n",
    "  setwd(dirfile)\n",
    "  mlist<-list.files()\n",
    "  # mlist<-mlist[-grep(\".7z\", mlist)]\n",
    "  mlist<-mlist[-grep(\".feedback\", mlist)]\n",
    "  # mlist<-mlist[-grep(\".pdf\", mlist)]\n",
    "  \n",
    "  for (m in mlist)\n",
    "  {\n",
    "    outvals<-summaryfunc(dirfile, m, burnblocks)\n",
    "    outvals<-append(m, outvals)\n",
    "    \n",
    "    if (exists(\"sumdata\")==T)\n",
    "    {\n",
    "      sumdata<-rbind(sumdata, outvals)\n",
    "    }\n",
    "    \n",
    "    if (exists(\"sumdata\")==F)\n",
    "    {\n",
    "      sumdata<- outvals\n",
    "    }\n",
    "  } \n",
    "  \n",
    "}\n",
    "\n",
    "\n",
    "write.csv(sumdata, \"d:/rdata/frost_analysis/output/centralhighlandsv1.csv\")"
   ]
  }
 ],
 "metadata": {
  "kernelspec": {
   "display_name": "R",
   "language": "R",
   "name": "ir"
  },
  "language_info": {
   "codemirror_mode": "r",
   "file_extension": ".r",
   "mimetype": "text/x-r-source",
   "name": "R",
   "pygments_lexer": "r",
   "version": "3.4.1"
  }
 },
 "nbformat": 4,
 "nbformat_minor": 2
}
